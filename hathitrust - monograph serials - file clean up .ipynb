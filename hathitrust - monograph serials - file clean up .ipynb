{
 "cells": [
  {
   "cell_type": "code",
   "execution_count": 96,
   "metadata": {},
   "outputs": [],
   "source": [
    "import pandas as pd"
   ]
  },
  {
   "cell_type": "code",
   "execution_count": 184,
   "metadata": {},
   "outputs": [],
   "source": [
    "#files in raw folder\n",
    "df1=pd.read_csv('raw/print_monograph_hathitrust_20200504-1.txt', sep='\\t')"
   ]
  },
  {
   "cell_type": "code",
   "execution_count": 151,
   "metadata": {},
   "outputs": [],
   "source": [
    "df2=pd.read_csv('raw/print_monograph_hathitrust_20200504-2.txt', sep='\\t')\n",
    "df3=pd.read_csv('raw/print_monograph_hathitrust_20200504-3.txt', sep='\\t')"
   ]
  },
  {
   "cell_type": "code",
   "execution_count": 185,
   "metadata": {},
   "outputs": [],
   "source": [
    "df1=df1[['35','RECORD #(BIBLIO)','BCODE3','VOLUME', 'ISN','GOVT DOC #']]"
   ]
  },
  {
   "cell_type": "code",
   "execution_count": 147,
   "metadata": {},
   "outputs": [
    {
     "data": {
      "text/html": [
       "<div>\n",
       "<style scoped>\n",
       "    .dataframe tbody tr th:only-of-type {\n",
       "        vertical-align: middle;\n",
       "    }\n",
       "\n",
       "    .dataframe tbody tr th {\n",
       "        vertical-align: top;\n",
       "    }\n",
       "\n",
       "    .dataframe thead th {\n",
       "        text-align: right;\n",
       "    }\n",
       "</style>\n",
       "<table border=\"1\" class=\"dataframe\">\n",
       "  <thead>\n",
       "    <tr style=\"text-align: right;\">\n",
       "      <th></th>\n",
       "      <th>\"035\"</th>\n",
       "      <th>\"RECORD #(BIBLIO)\"</th>\n",
       "      <th>\"TITLE\"</th>\n",
       "      <th>\"BCODE3\"</th>\n",
       "      <th>\"VOLUME\"</th>\n",
       "      <th>\"ISN\"</th>\n",
       "      <th>\"GOVT DOC #\"</th>\n",
       "    </tr>\n",
       "  </thead>\n",
       "  <tbody>\n",
       "    <tr>\n",
       "      <th>0</th>\n",
       "      <td>\"\"</td>\n",
       "      <td>\"b1000001x\"</td>\n",
       "      <td>\"Great conversation : the substance of a liber...</td>\n",
       "      <td>\"-\"</td>\n",
       "      <td>\"\"</td>\n",
       "      <td>\"\"</td>\n",
       "      <td>\"\"</td>\n",
       "    </tr>\n",
       "    <tr>\n",
       "      <th>1</th>\n",
       "      <td>\"0179084\",\"(WaOLN)rye0000002\"</td>\n",
       "      <td>\"b10000021\"</td>\n",
       "      <td>\"Hippocratic writings / [Translated by Francis...</td>\n",
       "      <td>\"-\"</td>\n",
       "      <td>\"\"</td>\n",
       "      <td>\"\"</td>\n",
       "      <td>\"\"</td>\n",
       "    </tr>\n",
       "    <tr>\n",
       "      <th>2</th>\n",
       "      <td>\"0179090\",\"(WaOLN)rye0000004\"</td>\n",
       "      <td>\"b10000045\"</td>\n",
       "      <td>\"Lucretius : On the nature of things / transla...</td>\n",
       "      <td>\"-\"</td>\n",
       "      <td>\"\"</td>\n",
       "      <td>\"\"</td>\n",
       "      <td>\"\"</td>\n",
       "    </tr>\n",
       "  </tbody>\n",
       "</table>\n",
       "</div>"
      ],
      "text/plain": [
       "                           \"035\" \"RECORD #(BIBLIO)\"  \\\n",
       "0                             \"\"        \"b1000001x\"   \n",
       "1  \"0179084\",\"(WaOLN)rye0000002\"        \"b10000021\"   \n",
       "2  \"0179090\",\"(WaOLN)rye0000004\"        \"b10000045\"   \n",
       "\n",
       "                                             \"TITLE\" \"BCODE3\" \"VOLUME\" \"ISN\"  \\\n",
       "0  \"Great conversation : the substance of a liber...      \"-\"       \"\"    \"\"   \n",
       "1  \"Hippocratic writings / [Translated by Francis...      \"-\"       \"\"    \"\"   \n",
       "2  \"Lucretius : On the nature of things / transla...      \"-\"       \"\"    \"\"   \n",
       "\n",
       "  \"GOVT DOC #\"  \n",
       "0           \"\"  \n",
       "1           \"\"  \n",
       "2           \"\"  "
      ]
     },
     "execution_count": 147,
     "metadata": {},
     "output_type": "execute_result"
    }
   ],
   "source": [
    "df1.head(3)\n"
   ]
  },
  {
   "cell_type": "code",
   "execution_count": 145,
   "metadata": {},
   "outputs": [],
   "source": [
    "df2=df2[['35','RECORD #(BIBLIO)','BCODE3','VOLUME', 'ISN','GOVT DOC #']]"
   ]
  },
  {
   "cell_type": "code",
   "execution_count": 146,
   "metadata": {},
   "outputs": [
    {
     "data": {
      "text/html": [
       "<div>\n",
       "<style scoped>\n",
       "    .dataframe tbody tr th:only-of-type {\n",
       "        vertical-align: middle;\n",
       "    }\n",
       "\n",
       "    .dataframe tbody tr th {\n",
       "        vertical-align: top;\n",
       "    }\n",
       "\n",
       "    .dataframe thead th {\n",
       "        text-align: right;\n",
       "    }\n",
       "</style>\n",
       "<table border=\"1\" class=\"dataframe\">\n",
       "  <thead>\n",
       "    <tr style=\"text-align: right;\">\n",
       "      <th></th>\n",
       "      <th>35</th>\n",
       "      <th>RECORD #(BIBLIO)</th>\n",
       "      <th>BCODE3</th>\n",
       "      <th>VOLUME</th>\n",
       "      <th>ISN</th>\n",
       "      <th>GOVT DOC #</th>\n",
       "    </tr>\n",
       "  </thead>\n",
       "  <tbody>\n",
       "    <tr>\n",
       "      <th>0</th>\n",
       "      <td>NaN</td>\n",
       "      <td>b1000001x</td>\n",
       "      <td>-</td>\n",
       "      <td>NaN</td>\n",
       "      <td>NaN</td>\n",
       "      <td>NaN</td>\n",
       "    </tr>\n",
       "    <tr>\n",
       "      <th>1</th>\n",
       "      <td>0179084,\"(WaOLN)rye0000002\"</td>\n",
       "      <td>b10000021</td>\n",
       "      <td>-</td>\n",
       "      <td>NaN</td>\n",
       "      <td>NaN</td>\n",
       "      <td>NaN</td>\n",
       "    </tr>\n",
       "    <tr>\n",
       "      <th>2</th>\n",
       "      <td>0179090,\"(WaOLN)rye0000004\"</td>\n",
       "      <td>b10000045</td>\n",
       "      <td>-</td>\n",
       "      <td>NaN</td>\n",
       "      <td>NaN</td>\n",
       "      <td>NaN</td>\n",
       "    </tr>\n",
       "  </tbody>\n",
       "</table>\n",
       "</div>"
      ],
      "text/plain": [
       "                            35 RECORD #(BIBLIO) BCODE3 VOLUME  ISN GOVT DOC #\n",
       "0                          NaN        b1000001x      -    NaN  NaN        NaN\n",
       "1  0179084,\"(WaOLN)rye0000002\"        b10000021      -    NaN  NaN        NaN\n",
       "2  0179090,\"(WaOLN)rye0000004\"        b10000045      -    NaN  NaN        NaN"
      ]
     },
     "execution_count": 146,
     "metadata": {},
     "output_type": "execute_result"
    }
   ],
   "source": [
    "df2.head(3)"
   ]
  },
  {
   "cell_type": "code",
   "execution_count": 159,
   "metadata": {},
   "outputs": [],
   "source": [
    "# run this only for serials \n",
    "\n",
    "df=df[['35','RECORD #(BIBLIO)','BCODE3','LIB. HAS','ISN','GOVT DOC #']]"
   ]
  },
  {
   "cell_type": "code",
   "execution_count": 160,
   "metadata": {},
   "outputs": [],
   "source": [
    "df3=df3[['35','RECORD #(BIBLIO)','BCODE3','VOLUME', 'ISN','GOVT DOC #']]"
   ]
  },
  {
   "cell_type": "code",
   "execution_count": 103,
   "metadata": {},
   "outputs": [
    {
     "data": {
      "text/html": [
       "<div>\n",
       "<style scoped>\n",
       "    .dataframe tbody tr th:only-of-type {\n",
       "        vertical-align: middle;\n",
       "    }\n",
       "\n",
       "    .dataframe tbody tr th {\n",
       "        vertical-align: top;\n",
       "    }\n",
       "\n",
       "    .dataframe thead th {\n",
       "        text-align: right;\n",
       "    }\n",
       "</style>\n",
       "<table border=\"1\" class=\"dataframe\">\n",
       "  <thead>\n",
       "    <tr style=\"text-align: right;\">\n",
       "      <th></th>\n",
       "      <th>35</th>\n",
       "      <th>RECORD #(BIBLIO)</th>\n",
       "      <th>BCODE3</th>\n",
       "      <th>VOLUME</th>\n",
       "      <th>ISN</th>\n",
       "      <th>GOVT DOC #</th>\n",
       "    </tr>\n",
       "  </thead>\n",
       "  <tbody>\n",
       "    <tr>\n",
       "      <th>0</th>\n",
       "      <td>NaN</td>\n",
       "      <td>b20440066</td>\n",
       "      <td>-</td>\n",
       "      <td>NaN</td>\n",
       "      <td>9781407307213 (pbk.),\"1407307215 (pbk.)\"</td>\n",
       "      <td>NaN</td>\n",
       "    </tr>\n",
       "    <tr>\n",
       "      <th>1</th>\n",
       "      <td>NaN</td>\n",
       "      <td>b20440078</td>\n",
       "      <td>-</td>\n",
       "      <td>NaN</td>\n",
       "      <td>9780199548088 (pbk.),\"0199548080 (pbk.)\"</td>\n",
       "      <td>NaN</td>\n",
       "    </tr>\n",
       "    <tr>\n",
       "      <th>2</th>\n",
       "      <td>NaN</td>\n",
       "      <td>b2044008x</td>\n",
       "      <td>-</td>\n",
       "      <td>NaN</td>\n",
       "      <td>0817313893 (cloth : alk. paper),\"9780817354909\"</td>\n",
       "      <td>NaN</td>\n",
       "    </tr>\n",
       "  </tbody>\n",
       "</table>\n",
       "</div>"
      ],
      "text/plain": [
       "    35 RECORD #(BIBLIO) BCODE3 VOLUME  \\\n",
       "0  NaN        b20440066      -    NaN   \n",
       "1  NaN        b20440078      -    NaN   \n",
       "2  NaN        b2044008x      -    NaN   \n",
       "\n",
       "                                               ISN GOVT DOC #  \n",
       "0         9781407307213 (pbk.),\"1407307215 (pbk.)\"        NaN  \n",
       "1         9780199548088 (pbk.),\"0199548080 (pbk.)\"        NaN  \n",
       "2  0817313893 (cloth : alk. paper),\"9780817354909\"        NaN  "
      ]
     },
     "execution_count": 103,
     "metadata": {},
     "output_type": "execute_result"
    }
   ],
   "source": [
    "df3.head(3)"
   ]
  },
  {
   "cell_type": "code",
   "execution_count": 104,
   "metadata": {},
   "outputs": [],
   "source": [
    "frames = [df1, df2, df3]\n",
    "\n",
    "df = pd.concat(frames)"
   ]
  },
  {
   "cell_type": "code",
   "execution_count": 161,
   "metadata": {},
   "outputs": [
    {
     "name": "stdout",
     "output_type": "stream",
     "text": [
      "<class 'pandas.core.frame.DataFrame'>\n",
      "RangeIndex: 3976 entries, 0 to 3975\n",
      "Data columns (total 6 columns):\n",
      "35                  3636 non-null object\n",
      "RECORD #(BIBLIO)    3976 non-null object\n",
      "BCODE3              3976 non-null object\n",
      "LIB. HAS            3447 non-null object\n",
      "ISN                 3524 non-null object\n",
      "GOVT DOC #          795 non-null object\n",
      "dtypes: object(6)\n",
      "memory usage: 186.5+ KB\n"
     ]
    }
   ],
   "source": [
    "df.info()"
   ]
  },
  {
   "cell_type": "code",
   "execution_count": 163,
   "metadata": {},
   "outputs": [
    {
     "data": {
      "text/html": [
       "<div>\n",
       "<style scoped>\n",
       "    .dataframe tbody tr th:only-of-type {\n",
       "        vertical-align: middle;\n",
       "    }\n",
       "\n",
       "    .dataframe tbody tr th {\n",
       "        vertical-align: top;\n",
       "    }\n",
       "\n",
       "    .dataframe thead th {\n",
       "        text-align: right;\n",
       "    }\n",
       "</style>\n",
       "<table border=\"1\" class=\"dataframe\">\n",
       "  <thead>\n",
       "    <tr style=\"text-align: right;\">\n",
       "      <th></th>\n",
       "      <th>35</th>\n",
       "      <th>RECORD #(BIBLIO)</th>\n",
       "      <th>BCODE3</th>\n",
       "      <th>LIB. HAS</th>\n",
       "      <th>ISN</th>\n",
       "      <th>GOVT DOC #</th>\n",
       "    </tr>\n",
       "  </thead>\n",
       "  <tbody>\n",
       "    <tr>\n",
       "      <th>3186</th>\n",
       "      <td>000000113799,\"(OCoLC)ocl71796068\"</td>\n",
       "      <td>b16952856</td>\n",
       "      <td>-</td>\n",
       "      <td>v.81:no.1 (Jan./Feb. 1974) - v.90:no.3 (June 1...</td>\n",
       "      <td>0315-6230</td>\n",
       "      <td>NaN</td>\n",
       "    </tr>\n",
       "    <tr>\n",
       "      <th>268</th>\n",
       "      <td>01019172 //r893,\"(OCoLC)1761296\",\"(WaOLN)rye02...</td>\n",
       "      <td>b12212477</td>\n",
       "      <td>-</td>\n",
       "      <td>v.39(1947)-</td>\n",
       "      <td>0030-2953</td>\n",
       "      <td>NaN</td>\n",
       "    </tr>\n",
       "    <tr>\n",
       "      <th>2878</th>\n",
       "      <td>AMP-0262</td>\n",
       "      <td>b13689915</td>\n",
       "      <td>w</td>\n",
       "      <td>1984 to 1993.</td>\n",
       "      <td>0838-2182</td>\n",
       "      <td>63-232</td>\n",
       "    </tr>\n",
       "    <tr>\n",
       "      <th>1552</th>\n",
       "      <td>cn 92083374,\"(OCoLC)26776087\",\"(WaOLN)rye0231476\"</td>\n",
       "      <td>b1226846x</td>\n",
       "      <td>-</td>\n",
       "      <td>v.3: no.1 (spring 1993)-  v.5: no.2 (spring/su...</td>\n",
       "      <td>1183-3114</td>\n",
       "      <td>NaN</td>\n",
       "    </tr>\n",
       "    <tr>\n",
       "      <th>2427</th>\n",
       "      <td>ALB/ACC-2841/ACQ5,\"(WaOLN)rye0262106\"</td>\n",
       "      <td>b12633665</td>\n",
       "      <td>-</td>\n",
       "      <td>v.71  no.1/ 2  1997 to the present.</td>\n",
       "      <td>0028-9930</td>\n",
       "      <td>NaN</td>\n",
       "    </tr>\n",
       "    <tr>\n",
       "      <th>3841</th>\n",
       "      <td>ocm54056097,\"(OCoLC)54056097\"</td>\n",
       "      <td>b19227826</td>\n",
       "      <td>-</td>\n",
       "      <td>v.47:no.5 (Oct.2003)-v.55:no.4 (Dec.2011)</td>\n",
       "      <td>1062-6301</td>\n",
       "      <td>NaN</td>\n",
       "    </tr>\n",
       "    <tr>\n",
       "      <th>128</th>\n",
       "      <td>77643570 //r92,\"(OCoLC)3113183\",\"(WaOLN)rye021...</td>\n",
       "      <td>b12127280</td>\n",
       "      <td>-</td>\n",
       "      <td>NaN</td>\n",
       "      <td>0251-2920</td>\n",
       "      <td>NaN</td>\n",
       "    </tr>\n",
       "    <tr>\n",
       "      <th>3915</th>\n",
       "      <td>ocn781005593,\"(OCoLC)781005593\"</td>\n",
       "      <td>b24422964</td>\n",
       "      <td>-</td>\n",
       "      <td>1.1 74- 10- 2013- 10-</td>\n",
       "      <td>0160-6689</td>\n",
       "      <td>NaN</td>\n",
       "    </tr>\n",
       "    <tr>\n",
       "      <th>2175</th>\n",
       "      <td>(WaOLN)rye0245202</td>\n",
       "      <td>b12445484</td>\n",
       "      <td>-</td>\n",
       "      <td>1944 to #18  S4  2009.</td>\n",
       "      <td>NaN</td>\n",
       "      <td>NaN</td>\n",
       "    </tr>\n",
       "    <tr>\n",
       "      <th>2707</th>\n",
       "      <td>85337770</td>\n",
       "      <td>b13406425</td>\n",
       "      <td>-</td>\n",
       "      <td>issue no.1 (Feb. 1982) - v.2:no.4 (1995)</td>\n",
       "      <td>1012-537x 1012-536x</td>\n",
       "      <td>NaN</td>\n",
       "    </tr>\n",
       "    <tr>\n",
       "      <th>1811</th>\n",
       "      <td>93659127,\"(OCoLC)28982886\",\"(WaOLN)rye0234296\"</td>\n",
       "      <td>b1229892x</td>\n",
       "      <td>-</td>\n",
       "      <td>v.3 no.4 autumn 1994 to v.12 no.3 Aug. 2003</td>\n",
       "      <td>1074-407X</td>\n",
       "      <td>NaN</td>\n",
       "    </tr>\n",
       "    <tr>\n",
       "      <th>272</th>\n",
       "      <td>cn 76301112,\"(OCoLC)2293931\",\"(WaOLN)rye0226166\"</td>\n",
       "      <td>b12212519</td>\n",
       "      <td>-</td>\n",
       "      <td>Dec. 1964 to v.56  n.3 Aug./Sept. 2009</td>\n",
       "      <td>0044-5878</td>\n",
       "      <td>NaN</td>\n",
       "    </tr>\n",
       "    <tr>\n",
       "      <th>2203</th>\n",
       "      <td>LCMARC/ABI-1673/TRICHARD,\"(OCoLC)2249118\",\"(Wa...</td>\n",
       "      <td>b12463085</td>\n",
       "      <td>-</td>\n",
       "      <td>v.12  no.1  1986 to 1988.</td>\n",
       "      <td>0703-6078</td>\n",
       "      <td>NaN</td>\n",
       "    </tr>\n",
       "    <tr>\n",
       "      <th>1322</th>\n",
       "      <td>11375909,\"(OCoLC)ocm20456482\"</td>\n",
       "      <td>b12239045</td>\n",
       "      <td>-</td>\n",
       "      <td>v.44:no.1 (Sept. 1989) - v.58:issue 1/2 (June ...</td>\n",
       "      <td>0924-2716</td>\n",
       "      <td>NaN</td>\n",
       "    </tr>\n",
       "    <tr>\n",
       "      <th>3649</th>\n",
       "      <td>11305699,\"(OCoLC)ocm11998010\"</td>\n",
       "      <td>b1748666x</td>\n",
       "      <td>-</td>\n",
       "      <td>issue #294 (Mar. 1985) - issue #306 (Mar. 1986...</td>\n",
       "      <td>0883-234X 0745-080X</td>\n",
       "      <td>NaN</td>\n",
       "    </tr>\n",
       "    <tr>\n",
       "      <th>2692</th>\n",
       "      <td>41177577</td>\n",
       "      <td>b13374710</td>\n",
       "      <td>-</td>\n",
       "      <td>1.1 1- 2- 1999- 06-</td>\n",
       "      <td>1229-2370</td>\n",
       "      <td>NaN</td>\n",
       "    </tr>\n",
       "    <tr>\n",
       "      <th>3927</th>\n",
       "      <td>ocn858864734,\"(OCoLC)858864734\"</td>\n",
       "      <td>b25038254</td>\n",
       "      <td>-</td>\n",
       "      <td>v.93:no.3 (March 2014) -</td>\n",
       "      <td>2331-2793 1</td>\n",
       "      <td>NaN</td>\n",
       "    </tr>\n",
       "    <tr>\n",
       "      <th>502</th>\n",
       "      <td>ABX-1853,\"(OCoLC)1792886\",\"(WaOLN)rye0227360\"</td>\n",
       "      <td>b12225149</td>\n",
       "      <td>-</td>\n",
       "      <td>no.37 (July 1967) - no.362 (Feb./Mar. 2000) so...</td>\n",
       "      <td>0011-0876</td>\n",
       "      <td>NaN</td>\n",
       "    </tr>\n",
       "    <tr>\n",
       "      <th>3244</th>\n",
       "      <td>000031682374,\"(OCoLC)ocm61384389\"</td>\n",
       "      <td>b16986222</td>\n",
       "      <td>-</td>\n",
       "      <td>NaN</td>\n",
       "      <td>1717-1415</td>\n",
       "      <td>NaN</td>\n",
       "    </tr>\n",
       "    <tr>\n",
       "      <th>2599</th>\n",
       "      <td>(OCoLC)14690884,\"(DNLM)8611908(c)\",\"(DNLM)SR00...</td>\n",
       "      <td>b13195955</td>\n",
       "      <td>-</td>\n",
       "      <td>v.1  no.1  Aug. 1985 to v.16  no.2  Apr. 2000.</td>\n",
       "      <td>0815-6409</td>\n",
       "      <td>NaN</td>\n",
       "    </tr>\n",
       "  </tbody>\n",
       "</table>\n",
       "</div>"
      ],
      "text/plain": [
       "                                                     35 RECORD #(BIBLIO)  \\\n",
       "3186                  000000113799,\"(OCoLC)ocl71796068\"        b16952856   \n",
       "268   01019172 //r893,\"(OCoLC)1761296\",\"(WaOLN)rye02...        b12212477   \n",
       "2878                                           AMP-0262        b13689915   \n",
       "1552  cn 92083374,\"(OCoLC)26776087\",\"(WaOLN)rye0231476\"        b1226846x   \n",
       "2427              ALB/ACC-2841/ACQ5,\"(WaOLN)rye0262106\"        b12633665   \n",
       "3841                      ocm54056097,\"(OCoLC)54056097\"        b19227826   \n",
       "128   77643570 //r92,\"(OCoLC)3113183\",\"(WaOLN)rye021...        b12127280   \n",
       "3915                    ocn781005593,\"(OCoLC)781005593\"        b24422964   \n",
       "2175                                  (WaOLN)rye0245202        b12445484   \n",
       "2707                                           85337770        b13406425   \n",
       "1811     93659127,\"(OCoLC)28982886\",\"(WaOLN)rye0234296\"        b1229892x   \n",
       "272    cn 76301112,\"(OCoLC)2293931\",\"(WaOLN)rye0226166\"        b12212519   \n",
       "2203  LCMARC/ABI-1673/TRICHARD,\"(OCoLC)2249118\",\"(Wa...        b12463085   \n",
       "1322                      11375909,\"(OCoLC)ocm20456482\"        b12239045   \n",
       "3649                      11305699,\"(OCoLC)ocm11998010\"        b1748666x   \n",
       "2692                                           41177577        b13374710   \n",
       "3927                    ocn858864734,\"(OCoLC)858864734\"        b25038254   \n",
       "502       ABX-1853,\"(OCoLC)1792886\",\"(WaOLN)rye0227360\"        b12225149   \n",
       "3244                  000031682374,\"(OCoLC)ocm61384389\"        b16986222   \n",
       "2599  (OCoLC)14690884,\"(DNLM)8611908(c)\",\"(DNLM)SR00...        b13195955   \n",
       "\n",
       "     BCODE3                                           LIB. HAS  \\\n",
       "3186      -  v.81:no.1 (Jan./Feb. 1974) - v.90:no.3 (June 1...   \n",
       "268       -                                        v.39(1947)-   \n",
       "2878      w                                      1984 to 1993.   \n",
       "1552      -  v.3: no.1 (spring 1993)-  v.5: no.2 (spring/su...   \n",
       "2427      -                v.71  no.1/ 2  1997 to the present.   \n",
       "3841      -          v.47:no.5 (Oct.2003)-v.55:no.4 (Dec.2011)   \n",
       "128       -                                                NaN   \n",
       "3915      -                              1.1 74- 10- 2013- 10-   \n",
       "2175      -                             1944 to #18  S4  2009.   \n",
       "2707      -           issue no.1 (Feb. 1982) - v.2:no.4 (1995)   \n",
       "1811      -        v.3 no.4 autumn 1994 to v.12 no.3 Aug. 2003   \n",
       "272       -             Dec. 1964 to v.56  n.3 Aug./Sept. 2009   \n",
       "2203      -                          v.12  no.1  1986 to 1988.   \n",
       "1322      -  v.44:no.1 (Sept. 1989) - v.58:issue 1/2 (June ...   \n",
       "3649      -  issue #294 (Mar. 1985) - issue #306 (Mar. 1986...   \n",
       "2692      -                                1.1 1- 2- 1999- 06-   \n",
       "3927      -                           v.93:no.3 (March 2014) -   \n",
       "502       -  no.37 (July 1967) - no.362 (Feb./Mar. 2000) so...   \n",
       "3244      -                                                NaN   \n",
       "2599      -     v.1  no.1  Aug. 1985 to v.16  no.2  Apr. 2000.   \n",
       "\n",
       "                      ISN GOVT DOC #  \n",
       "3186            0315-6230        NaN  \n",
       "268             0030-2953        NaN  \n",
       "2878            0838-2182     63-232  \n",
       "1552            1183-3114        NaN  \n",
       "2427            0028-9930        NaN  \n",
       "3841            1062-6301        NaN  \n",
       "128             0251-2920        NaN  \n",
       "3915            0160-6689        NaN  \n",
       "2175                  NaN        NaN  \n",
       "2707  1012-537x 1012-536x        NaN  \n",
       "1811            1074-407X        NaN  \n",
       "272             0044-5878        NaN  \n",
       "2203            0703-6078        NaN  \n",
       "1322            0924-2716        NaN  \n",
       "3649  0883-234X 0745-080X        NaN  \n",
       "2692            1229-2370        NaN  \n",
       "3927          2331-2793 1        NaN  \n",
       "502             0011-0876        NaN  \n",
       "3244            1717-1415        NaN  \n",
       "2599            0815-6409        NaN  "
      ]
     },
     "execution_count": 163,
     "metadata": {},
     "output_type": "execute_result"
    }
   ],
   "source": [
    "    #just to see what needs to be cleaned up \n",
    "df.sample(20)"
   ]
  },
  {
   "cell_type": "code",
   "execution_count": 165,
   "metadata": {},
   "outputs": [],
   "source": [
    "# regex \n",
    "import re"
   ]
  },
  {
   "cell_type": "code",
   "execution_count": 166,
   "metadata": {},
   "outputs": [
    {
     "name": "stdout",
     "output_type": "stream",
     "text": [
      "9780345811820 ,0345811828, [$128.95] New York\n",
      "9780345811820 (software),0345811828, [] New York\n"
     ]
    }
   ],
   "source": [
    "#code to test regex \n",
    "test =\"9780345811820 (software),0345811828, [$128.95] New York\"\n",
    "print(re.sub(r'\\([a-z\\s.0-9\\[\\]]*\\)','',test,flags=re.IGNORECASE))\n",
    "print(re.sub(r'\\$[0-9\\*\\.[0-9]*','',test))"
   ]
  },
  {
   "cell_type": "code",
   "execution_count": null,
   "metadata": {},
   "outputs": [],
   "source": []
  },
  {
   "cell_type": "code",
   "execution_count": 167,
   "metadata": {},
   "outputs": [],
   "source": [
    "# function to clean up ISSN \n",
    "\n",
    "def ISSN(i):\n",
    "    \n",
    "#remove price ($100.00)\n",
    "        i=re.sub('\\$[0-9]*\\.[0-9]*','',i)\n",
    "#remove (softcover) (pbk.) (New York)\n",
    "        i=re.sub('\\([a-z\\s.\\[\\]]*\\)','',i,flags=re.IGNORECASE)\n",
    "#remove pbk. New York\n",
    "        i=re.sub('[a-z\\s.]*','',i,flags=re.IGNORECASE)\n",
    "#remove ((pbk.))\n",
    "        i=re.sub('\\(\\([a-z]*\\s[a-z]*\\.\\)\\)','',i,flags=re.IGNORECASE)\n",
    "#remove unwanted commas, \n",
    "        i=re.sub(r',,','',i,flags=re.IGNORECASE)\n",
    "    \n",
    "#remove </td> </tr>\n",
    "        i=re.sub(r'<[//a-z]>','',i,flags=re.IGNORECASE)\n",
    "\n",
    "#remove (:)\n",
    "        i=re.sub('\\([:]\\)','',i)\n",
    "# remove unwanted comma at the end \n",
    "        i=re.sub(',\\Z','',i)\n",
    "\n",
    "        return i "
   ]
  },
  {
   "cell_type": "code",
   "execution_count": 168,
   "metadata": {},
   "outputs": [
    {
     "name": "stderr",
     "output_type": "stream",
     "text": [
      "C:\\ProgramData\\Anaconda3\\lib\\site-packages\\ipykernel_launcher.py:1: SettingWithCopyWarning: \n",
      "A value is trying to be set on a copy of a slice from a DataFrame.\n",
      "Try using .loc[row_indexer,col_indexer] = value instead\n",
      "\n",
      "See the caveats in the documentation: http://pandas.pydata.org/pandas-docs/stable/indexing.html#indexing-view-versus-copy\n",
      "  \"\"\"Entry point for launching an IPython kernel.\n",
      "C:\\ProgramData\\Anaconda3\\lib\\site-packages\\ipykernel_launcher.py:2: SettingWithCopyWarning: \n",
      "A value is trying to be set on a copy of a slice from a DataFrame.\n",
      "Try using .loc[row_indexer,col_indexer] = value instead\n",
      "\n",
      "See the caveats in the documentation: http://pandas.pydata.org/pandas-docs/stable/indexing.html#indexing-view-versus-copy\n",
      "  \n"
     ]
    }
   ],
   "source": [
    "df['ISN']=df.ISN.astype('str')\n",
    "df['ISN']=df.ISN.apply(ISSN)\n"
   ]
  },
  {
   "cell_type": "code",
   "execution_count": 175,
   "metadata": {},
   "outputs": [
    {
     "data": {
      "text/html": [
       "<div>\n",
       "<style scoped>\n",
       "    .dataframe tbody tr th:only-of-type {\n",
       "        vertical-align: middle;\n",
       "    }\n",
       "\n",
       "    .dataframe tbody tr th {\n",
       "        vertical-align: top;\n",
       "    }\n",
       "\n",
       "    .dataframe thead th {\n",
       "        text-align: right;\n",
       "    }\n",
       "</style>\n",
       "<table border=\"1\" class=\"dataframe\">\n",
       "  <thead>\n",
       "    <tr style=\"text-align: right;\">\n",
       "      <th></th>\n",
       "      <th>35</th>\n",
       "      <th>RECORD #(BIBLIO)</th>\n",
       "      <th>BCODE3</th>\n",
       "      <th>LIB. HAS</th>\n",
       "      <th>ISN</th>\n",
       "      <th>GOVT DOC #</th>\n",
       "    </tr>\n",
       "  </thead>\n",
       "  <tbody>\n",
       "    <tr>\n",
       "      <th>1477</th>\n",
       "      <td>ABX-2427,\"(OCoLC)2761141\",\"(DNLM)W08170000(s)\"</td>\n",
       "      <td>b12241416</td>\n",
       "      <td>-</td>\n",
       "      <td>v.3:no.2 (Feb. 1978) - v.22:no.6 (June 1997) s...</td>\n",
       "      <td>19851990</td>\n",
       "      <td>0145-5761</td>\n",
       "    </tr>\n",
       "    <tr>\n",
       "      <th>3449</th>\n",
       "      <td>11416442,\"(OCoLC)ocm14039516\"</td>\n",
       "      <td>b17215663</td>\n",
       "      <td>-</td>\n",
       "      <td>v.2:no.1 (spring 1988) - v.15:no.4 (winter 2001)</td>\n",
       "      <td>0889-7182</td>\n",
       "      <td>NaN</td>\n",
       "    </tr>\n",
       "    <tr>\n",
       "      <th>945</th>\n",
       "      <td>ABJ-9355,\"(OCoLC)3681038\"</td>\n",
       "      <td>b12233195</td>\n",
       "      <td>-</td>\n",
       "      <td>v.8:no.4 (Dec.1987) -</td>\n",
       "      <td>0703-1866</td>\n",
       "      <td>NaN</td>\n",
       "    </tr>\n",
       "    <tr>\n",
       "      <th>1328</th>\n",
       "      <td>AAX-5185,\"(OCoLC)1585937\",\"(DNLM)I19690000(s)\"</td>\n",
       "      <td>b12239161</td>\n",
       "      <td>-</td>\n",
       "      <td>1.1 37-40 1-5 1980-1983 02-10 g,\"1.2 41-48 1-2...</td>\n",
       "      <td>1137-401-51980-198302-10,\"1241-481-21984-19910...</td>\n",
       "      <td>0020-5745</td>\n",
       "    </tr>\n",
       "    <tr>\n",
       "      <th>283</th>\n",
       "      <td>nan</td>\n",
       "      <td>b12215065</td>\n",
       "      <td>-</td>\n",
       "      <td>NaN</td>\n",
       "      <td>0082-0431</td>\n",
       "      <td>NaN</td>\n",
       "    </tr>\n",
       "    <tr>\n",
       "      <th>2680</th>\n",
       "      <td>LCMARC/ABR-5269/ACQ5,\"(OCoLC)10554400\"</td>\n",
       "      <td>b13302474</td>\n",
       "      <td>-</td>\n",
       "      <td>no.139 (Sept. 1999) - no.154 (spring 2002)</td>\n",
       "      <td>0743-1155</td>\n",
       "      <td>NaN</td>\n",
       "    </tr>\n",
       "    <tr>\n",
       "      <th>1644</th>\n",
       "      <td>nan</td>\n",
       "      <td>b12281566</td>\n",
       "      <td>x</td>\n",
       "      <td>NaN</td>\n",
       "      <td>1191-16030827-3715</td>\n",
       "      <td>NaN</td>\n",
       "    </tr>\n",
       "    <tr>\n",
       "      <th>1896</th>\n",
       "      <td>(OCoLC)12169008,\"LCMARC/ARY-9161/HDZURIS\",\"ALB...</td>\n",
       "      <td>b12328522</td>\n",
       "      <td>-</td>\n",
       "      <td>no.1(1985)-no.1(2003)</td>\n",
       "      <td></td>\n",
       "      <td>NaN</td>\n",
       "    </tr>\n",
       "    <tr>\n",
       "      <th>2239</th>\n",
       "      <td>(OCoLC)26341191,\"LCMARC/AQH-5744/TRICHARD\"</td>\n",
       "      <td>b12475749</td>\n",
       "      <td>-</td>\n",
       "      <td>v.2:no.5 (May 1990) - v.5:no.2 (Apr. 1993) som...</td>\n",
       "      <td>1064-6124</td>\n",
       "      <td>NaN</td>\n",
       "    </tr>\n",
       "    <tr>\n",
       "      <th>3264</th>\n",
       "      <td>000000087772,\"(OCoLC)ocl71553138\",\"(DNLM)C0402...</td>\n",
       "      <td>b17000634</td>\n",
       "      <td>-</td>\n",
       "      <td>v.13:no.3 (July 1971) - v.19:no.4 (Oct. 1977) ...</td>\n",
       "      <td>0315-5390</td>\n",
       "      <td>NaN</td>\n",
       "    </tr>\n",
       "  </tbody>\n",
       "</table>\n",
       "</div>"
      ],
      "text/plain": [
       "                                                     35 RECORD #(BIBLIO)  \\\n",
       "1477     ABX-2427,\"(OCoLC)2761141\",\"(DNLM)W08170000(s)\"        b12241416   \n",
       "3449                      11416442,\"(OCoLC)ocm14039516\"        b17215663   \n",
       "945                           ABJ-9355,\"(OCoLC)3681038\"        b12233195   \n",
       "1328     AAX-5185,\"(OCoLC)1585937\",\"(DNLM)I19690000(s)\"        b12239161   \n",
       "283                                                 nan        b12215065   \n",
       "2680             LCMARC/ABR-5269/ACQ5,\"(OCoLC)10554400\"        b13302474   \n",
       "1644                                                nan        b12281566   \n",
       "1896  (OCoLC)12169008,\"LCMARC/ARY-9161/HDZURIS\",\"ALB...        b12328522   \n",
       "2239         (OCoLC)26341191,\"LCMARC/AQH-5744/TRICHARD\"        b12475749   \n",
       "3264  000000087772,\"(OCoLC)ocl71553138\",\"(DNLM)C0402...        b17000634   \n",
       "\n",
       "     BCODE3                                           LIB. HAS  \\\n",
       "1477      -  v.3:no.2 (Feb. 1978) - v.22:no.6 (June 1997) s...   \n",
       "3449      -   v.2:no.1 (spring 1988) - v.15:no.4 (winter 2001)   \n",
       "945       -                              v.8:no.4 (Dec.1987) -   \n",
       "1328      -  1.1 37-40 1-5 1980-1983 02-10 g,\"1.2 41-48 1-2...   \n",
       "283       -                                                NaN   \n",
       "2680      -         no.139 (Sept. 1999) - no.154 (spring 2002)   \n",
       "1644      x                                                NaN   \n",
       "1896      -                              no.1(1985)-no.1(2003)   \n",
       "2239      -  v.2:no.5 (May 1990) - v.5:no.2 (Apr. 1993) som...   \n",
       "3264      -  v.13:no.3 (July 1971) - v.19:no.4 (Oct. 1977) ...   \n",
       "\n",
       "                                                    ISN GOVT DOC #  \n",
       "1477                                           19851990  0145-5761  \n",
       "3449                                          0889-7182        NaN  \n",
       "945                                           0703-1866        NaN  \n",
       "1328  1137-401-51980-198302-10,\"1241-481-21984-19910...  0020-5745  \n",
       "283                                           0082-0431        NaN  \n",
       "2680                                          0743-1155        NaN  \n",
       "1644                                 1191-16030827-3715        NaN  \n",
       "1896                                                           NaN  \n",
       "2239                                          1064-6124        NaN  \n",
       "3264                                          0315-5390        NaN  "
      ]
     },
     "execution_count": 175,
     "metadata": {},
     "output_type": "execute_result"
    }
   ],
   "source": [
    "df.sample(10)"
   ]
  },
  {
   "cell_type": "code",
   "execution_count": 172,
   "metadata": {},
   "outputs": [],
   "source": [
    "def clean035(q):\n",
    "    #remove WaOLN\"(WaOLN)rye0053656\", with and without \"\"\n",
    "    q=re.sub('\\\"\\(WaOLN\\)rye[01-9]+\\\"','',q)\n",
    "    q=re.sub('\\(WaOLN\\)rye[01-9]+','',q)\n",
    "#remove unnecessary comma at the end \n",
    "    q=re.sub(',\\Z','',q)\n",
    "    return q"
   ]
  },
  {
   "cell_type": "code",
   "execution_count": 174,
   "metadata": {},
   "outputs": [
    {
     "name": "stderr",
     "output_type": "stream",
     "text": [
      "C:\\ProgramData\\Anaconda3\\lib\\site-packages\\ipykernel_launcher.py:1: SettingWithCopyWarning: \n",
      "A value is trying to be set on a copy of a slice from a DataFrame.\n",
      "Try using .loc[row_indexer,col_indexer] = value instead\n",
      "\n",
      "See the caveats in the documentation: http://pandas.pydata.org/pandas-docs/stable/indexing.html#indexing-view-versus-copy\n",
      "  \"\"\"Entry point for launching an IPython kernel.\n",
      "C:\\ProgramData\\Anaconda3\\lib\\site-packages\\ipykernel_launcher.py:2: SettingWithCopyWarning: \n",
      "A value is trying to be set on a copy of a slice from a DataFrame.\n",
      "Try using .loc[row_indexer,col_indexer] = value instead\n",
      "\n",
      "See the caveats in the documentation: http://pandas.pydata.org/pandas-docs/stable/indexing.html#indexing-view-versus-copy\n",
      "  \n"
     ]
    }
   ],
   "source": [
    "df['35']=df['35'].astype('str')\n",
    "df['35']=df['35'].apply(clean035)"
   ]
  },
  {
   "cell_type": "code",
   "execution_count": 114,
   "metadata": {},
   "outputs": [
    {
     "name": "stdout",
     "output_type": "stream",
     "text": [
      "0388251,\n"
     ]
    }
   ],
   "source": [
    "#Test code for 035\n",
    "test='0388251,\"(WaOLN)rye0019428\"'\n",
    "test=re.sub('\\\"\\(WaOLN\\)rye[01-9]+\\\"','',test)\n",
    "print(test)\n",
    "#print(re.sub(r'\\z,\\z','',test))"
   ]
  },
  {
   "cell_type": "code",
   "execution_count": null,
   "metadata": {},
   "outputs": [],
   "source": []
  },
  {
   "cell_type": "code",
   "execution_count": null,
   "metadata": {},
   "outputs": [],
   "source": [
    "\n"
   ]
  },
  {
   "cell_type": "code",
   "execution_count": 115,
   "metadata": {},
   "outputs": [],
   "source": [
    "# don't need the lambda function anymore \n",
    "#035\n",
    "#mono.ISN=mono.ISN.apply(lambda x: re.sub('\\$[0-9]*\\.[0-9]*','',x))\n",
    "#mono.ISN=mono.ISN.apply(lambda x: re.sub('\\([a-z\\s.]*\\)','',x,flags=re.IGNORECASE))\n",
    "#mono.ISN=mono.ISN.apply(lambda x: re.sub('[a-z\\s.]*','',x,flags=re.IGNORECASE))\n",
    "#mono.ISN=mono.ISN.apply(lambda x: re.sub('\\([:]\\)','',x))\n",
    "#mono['35']=mono['35'].apply(lambda x:re.sub(',\\Z','',x))\n",
    "\n",
    "#035\n",
    "#mono['35']=mono['35'].astype('str')\n",
    "#mono['35']=mono['35'].apply(lambda x:re.sub('\\\"\\(WaOLN\\)rye[01-9]+\\\"','',x))"
   ]
  },
  {
   "cell_type": "code",
   "execution_count": 176,
   "metadata": {},
   "outputs": [
    {
     "name": "stderr",
     "output_type": "stream",
     "text": [
      "C:\\ProgramData\\Anaconda3\\lib\\site-packages\\ipykernel_launcher.py:2: SettingWithCopyWarning: \n",
      "A value is trying to be set on a copy of a slice from a DataFrame.\n",
      "Try using .loc[row_indexer,col_indexer] = value instead\n",
      "\n",
      "See the caveats in the documentation: http://pandas.pydata.org/pandas-docs/stable/indexing.html#indexing-view-versus-copy\n",
      "  \n"
     ]
    }
   ],
   "source": [
    "#CODE BCODE 3 according to instruction from Hathitrust\n",
    "df['BCODE3']=df['BCODE3'].replace({'-':'CH','w':'WD'})\n"
   ]
  },
  {
   "cell_type": "code",
   "execution_count": 177,
   "metadata": {},
   "outputs": [
    {
     "name": "stdout",
     "output_type": "stream",
     "text": [
      "<class 'pandas.core.frame.DataFrame'>\n",
      "RangeIndex: 3976 entries, 0 to 3975\n",
      "Data columns (total 6 columns):\n",
      "35                  3976 non-null object\n",
      "RECORD #(BIBLIO)    3976 non-null object\n",
      "BCODE3              3976 non-null object\n",
      "LIB. HAS            3447 non-null object\n",
      "ISN                 3976 non-null object\n",
      "GOVT DOC #          795 non-null object\n",
      "dtypes: object(6)\n",
      "memory usage: 186.5+ KB\n"
     ]
    }
   ],
   "source": [
    "df.info()"
   ]
  },
  {
   "cell_type": "code",
   "execution_count": 178,
   "metadata": {},
   "outputs": [],
   "source": [
    "df.columns=['OCLC#',\"Partner's Local System ID\",\"Holding Status\",\"Numeration and Chronology\",\"ISSN\",\"Gov Doc Indicator\"]"
   ]
  },
  {
   "cell_type": "code",
   "execution_count": 179,
   "metadata": {},
   "outputs": [
    {
     "name": "stdout",
     "output_type": "stream",
     "text": [
      "Holding Status\n",
      "CH    3786\n",
      "WD      39\n",
      "c       82\n",
      "s        4\n",
      "x       65\n",
      "Name: Partner's Local System ID, dtype: int64\n",
      "Holding Status\n",
      "CH    3786\n",
      "WD      39\n",
      "Name: Partner's Local System ID, dtype: int64\n"
     ]
    }
   ],
   "source": [
    "print(df.groupby(['Holding Status'])[\"Partner's Local System ID\"].count())\n",
    "\n",
    "# only need CH and WD \n",
    "\n",
    "df=pd.concat([df[df['Holding Status']=='CH'],df[df['Holding Status']=='WD']])\n",
    "print(df.groupby(['Holding Status'])[\"Partner's Local System ID\"].count())\n"
   ]
  },
  {
   "cell_type": "code",
   "execution_count": null,
   "metadata": {},
   "outputs": [],
   "source": []
  },
  {
   "cell_type": "code",
   "execution_count": null,
   "metadata": {},
   "outputs": [],
   "source": []
  },
  {
   "cell_type": "code",
   "execution_count": 180,
   "metadata": {},
   "outputs": [],
   "source": [
    "# set np.nan\n",
    "import numpy as np\n",
    "df.fillna(value=pd.np.nan, inplace=True)\n",
    "df=df.replace('', np.nan) \n",
    "df.replace('nan',np.nan,inplace=True)\n"
   ]
  },
  {
   "cell_type": "code",
   "execution_count": 182,
   "metadata": {},
   "outputs": [
    {
     "name": "stdout",
     "output_type": "stream",
     "text": [
      "<class 'pandas.core.frame.DataFrame'>\n",
      "Int64Index: 3825 entries, 0 to 3362\n",
      "Data columns (total 6 columns):\n",
      "OCLC#                        3478 non-null object\n",
      "Partner's Local System ID    3825 non-null object\n",
      "Holding Status               3825 non-null object\n",
      "Numeration and Chronology    3413 non-null object\n",
      "ISSN                         3450 non-null object\n",
      "Gov Doc Indicator            790 non-null object\n",
      "dtypes: object(6)\n",
      "memory usage: 209.2+ KB\n"
     ]
    }
   ],
   "source": [
    "df.info()"
   ]
  },
  {
   "cell_type": "code",
   "execution_count": 183,
   "metadata": {},
   "outputs": [],
   "source": [
    "df.to_csv('serial.csv', sep='\\t', index=False)"
   ]
  },
  {
   "cell_type": "code",
   "execution_count": null,
   "metadata": {},
   "outputs": [],
   "source": []
  }
 ],
 "metadata": {
  "kernelspec": {
   "display_name": "Python 3",
   "language": "python",
   "name": "python3"
  },
  "language_info": {
   "codemirror_mode": {
    "name": "ipython",
    "version": 3
   },
   "file_extension": ".py",
   "mimetype": "text/x-python",
   "name": "python",
   "nbconvert_exporter": "python",
   "pygments_lexer": "ipython3",
   "version": "3.7.3"
  }
 },
 "nbformat": 4,
 "nbformat_minor": 2
}
